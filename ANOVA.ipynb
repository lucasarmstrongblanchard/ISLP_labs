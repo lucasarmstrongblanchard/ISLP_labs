{
 "cells": [
  {
   "cell_type": "markdown",
   "id": "bac90965-8d8d-4fb7-8ddc-f73be4f022ac",
   "metadata": {},
   "source": [
    "source: [video](https://www.khanacademy.org/math/statistics-probability/analysis-of-variance-anova-library/analysis-of-variance-anova/v/anova-1-calculating-sst-total-sum-of-squares)"
   ]
  },
  {
   "cell_type": "markdown",
   "id": "bc2624ed-3445-4fbf-82b4-356682d56039",
   "metadata": {},
   "source": [
    "### ANOVA \n",
    "* Analysis of Variance\n",
    "* SST (Sum of Squares Total)"
   ]
  },
  {
   "cell_type": "code",
   "execution_count": 30,
   "id": "3ea43c7a-6f78-4d3c-9c9c-f4459b6b88f1",
   "metadata": {},
   "outputs": [
    {
     "name": "stdout",
     "output_type": "stream",
     "text": [
      "\n",
      "SST: 30.0\n",
      "\n",
      "\n",
      "Variance for entire group of data: 3.75\n"
     ]
    }
   ],
   "source": [
    "data = [[3, 2, 1], [5, 3, 4], [5, 6, 7]]\n",
    "points_per_sample = 3\n",
    "\n",
    "# we can take mean of all of the data in each of the groups \n",
    "flattened = [x for xs in data for x in xs]\n",
    "grand_mean = sum(flattened)/len(flattened)\n",
    "\n",
    "# or we can take the mean of the means \n",
    "mean_of_means = sum([sum(x)/len(x) for x in data])/len(data)\n",
    "\n",
    "# and they should be the same\n",
    "assert grand_mean == mean_of_means\n",
    "\n",
    "# to get the SST\n",
    "SST = sum([(x - grand_mean)**2 for x in flattened])\n",
    "\n",
    "print(f\"\\nSST: {SST}\\n\")\n",
    "\n",
    "# How many degrees of freedom do we have? \n",
    "# If we know the mean of means, then there are only m*n - 1 independent\n",
    "# measurements for n data points--if we want to calculate the variance \n",
    "# for the above data, we would divide SST by m*n-1\n",
    "\n",
    "degrees_of_freedom = len(data) * len(data[0]) - 1\n",
    "variance = SST / degrees_of_freedom \n",
    "print(f\"\\nVariance for entire group of data: {variance}\")"
   ]
  },
  {
   "cell_type": "markdown",
   "id": "bd3e1425-3fa9-4d92-af48-512acd80a168",
   "metadata": {},
   "source": [
    "* So we know there is a variance in the total group of 9 data points above, but some variation may come from between the groups and some from within the groups"
   ]
  },
  {
   "cell_type": "code",
   "execution_count": 20,
   "id": "781a82ca-7b52-44df-a950-a17dd94ecf1d",
   "metadata": {},
   "outputs": [
    {
     "name": "stdout",
     "output_type": "stream",
     "text": [
      "\n",
      "SSW: 6.0\n",
      "\n"
     ]
    }
   ],
   "source": [
    "# SSW (Sum of Squares Within): find the distance of each data point \n",
    "# from its respective group mean \n",
    "means = [sum(x) / len(x) for x in data]\n",
    "SSW = sum([sum((xi - mean)**2 for xi in group) for group, mean in zip(data, means)])\n",
    "print(f\"\\nSSW: {SSW}\\n\")"
   ]
  },
  {
   "cell_type": "markdown",
   "id": "25dc24b3-62d3-434b-81c3-7740ea6d7325",
   "metadata": {},
   "source": [
    "* We have calculated the SSW as 6 and the total variance as 30, so we can think of it as 6 of the total variance comes from variance within the group samples\n",
    "* For each group we have n data points, which means we have n - 1 degrees of freedom. We have n-1 degrees of freedom because if we know the mean of the n data points, we can calculate the nth data point using only the mean and the other n - 1 points\n",
    "* In all of our data, we have $m\\cdot(n-1)$ degrees of freedom, or 6 degrees\n",
    "* Now we want to calculate the variance that comes from between the sample groups, or between the means (the central tendencies of each group)"
   ]
  },
  {
   "cell_type": "code",
   "execution_count": 35,
   "id": "2d489049-4aa6-440e-9cee-d256c6551183",
   "metadata": {},
   "outputs": [
    {
     "name": "stdout",
     "output_type": "stream",
     "text": [
      "\n",
      "SSB: 24.0\n",
      "\n",
      "\n",
      "total variance\n",
      "SST = SSB + SSW = 30.0\n",
      "\n"
     ]
    }
   ],
   "source": [
    "# Sum of Squares Between: variation due to the difference between the group means\n",
    "SSB = sum([((means[i] - mean_of_means)**2)*points_per_sample for i in range(len(means))])\n",
    "print(f\"\\nSSB: {SSB}\\n\")\n",
    "\n",
    "print(f\"\\ntotal variance\\nSST = SSB + SSW = {SSB + SSW}\\n\")"
   ]
  },
  {
   "cell_type": "markdown",
   "id": "a3a0e871-6f42-4fd4-8c0f-a2d20361f3fd",
   "metadata": {},
   "source": [
    "* Now imagine that each of the groups are the results of some experiment: I gave three different types of food to each group to people taking a test, and the numbers are the scores on a test \n",
    "* I want to know if the food taken actually affects the scores, or is the difference in the means between the groups just due to random chance\n",
    "* Are the true population means the same? $\\mu_1 = \\mu_2 = \\mu_3$\n",
    "    * If they are not equal, then the food does have some effect \n",
    "* $H_0$: food doesn't make a difference -> $\\mu_1 = \\mu_2 = \\mu_3$\n",
    "* $H_1$: it does\n",
    "* Assume $H_0$. \n",
    "* Use F-Statistic (F comes from Fisher), which is the ratio of SSB and SSW each over their respective degrees of freedom $$\\frac{\\frac{SSB}{m-1}}{\\frac{SSW}{m(n-1)}}$$\n",
    "    * Now if the numerator is much larger than the denominator, we know that the variation is mostly due to differences between the actual means, and less to the variation within the groups--this signifies there is a difference in the true populations, making it easier to reject the null hypothesis\n",
    "    * If the denominator is larger, that means the variation within each sample is more significant, which tells us that any difference within the means is likely just random, making it harder to reject the null hypothesis\n",
    "    "
   ]
  },
  {
   "cell_type": "code",
   "execution_count": null,
   "id": "2cd97fca-1e9b-430b-bfd6-88f1cd6127e4",
   "metadata": {},
   "outputs": [],
   "source": []
  }
 ],
 "metadata": {
  "kernelspec": {
   "display_name": "Python 3 (ipykernel)",
   "language": "python",
   "name": "python3"
  },
  "language_info": {
   "codemirror_mode": {
    "name": "ipython",
    "version": 3
   },
   "file_extension": ".py",
   "mimetype": "text/x-python",
   "name": "python",
   "nbconvert_exporter": "python",
   "pygments_lexer": "ipython3",
   "version": "3.9.13"
  }
 },
 "nbformat": 4,
 "nbformat_minor": 5
}
